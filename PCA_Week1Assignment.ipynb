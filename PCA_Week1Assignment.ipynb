{
 "cells": [
  {
   "cell_type": "markdown",
   "metadata": {},
   "source": [
    "# Import the necessary libraries"
   ]
  },
  {
   "cell_type": "code",
   "execution_count": 2,
   "metadata": {},
   "outputs": [],
   "source": [
    "import pandas as pd\n",
    "import numpy as np\n",
    "import matplotlib.pyplot as plt\n",
    "from sklearn.decomposition import PCA\n",
    "from sklearn.preprocessing import StandardScaler"
   ]
  },
  {
   "cell_type": "markdown",
   "metadata": {},
   "source": [
    "# Load and Process Data"
   ]
  },
  {
   "cell_type": "code",
   "execution_count": 23,
   "metadata": {},
   "outputs": [
    {
     "data": {
      "text/plain": [
       "(8041, 35)"
      ]
     },
     "execution_count": 23,
     "metadata": {},
     "output_type": "execute_result"
    }
   ],
   "source": [
    "df=pd.read_csv('PCA_practice_dataset.csv')#Load dataset\n",
    "X=df.to_numpy()#Converting data to numpy\n",
    "X.shape"
   ]
  },
  {
   "cell_type": "code",
   "execution_count": 24,
   "metadata": {},
   "outputs": [],
   "source": [
    "#Scaling the data with mean=0 and standard deviation=1\n",
    "scaler=StandardScaler()\n",
    "X=scaler.fit_transform(X)"
   ]
  },
  {
   "cell_type": "markdown",
   "metadata": {},
   "source": [
    "# PCA "
   ]
  },
  {
   "cell_type": "code",
   "execution_count": 25,
   "metadata": {},
   "outputs": [
    {
     "name": "stdout",
     "output_type": "stream",
     "text": [
      "Components required for 90% threshold are: 2\n",
      "Components required for 91% threshold are: 2\n",
      "Components required for 92% threshold are: 3\n",
      "Components required for 93% threshold are: 3\n",
      "Components required for 94% threshold are: 4\n",
      "Components required for 95% threshold are: 4\n",
      "Components required for 96% threshold are: 5\n",
      "Components required for 97% threshold are: 6\n"
     ]
    }
   ],
   "source": [
    "#Apply PCA\n",
    "pca=PCA()\n",
    "X=pca.fit_transform(X)\n",
    "\n",
    "#Sum of eigen values for corresponding eigen vectors\n",
    "cum_variance=np.cumsum(pca.explained_variance_ratio_)*100\n",
    "\n",
    "#Declare a list of thresholds\n",
    "thresholds=[i for i in range(90,97+1,1)]\n",
    "\n",
    "#list of components required to retain the variance as in list thresholds\n",
    "components=[np.argmax(cum_variance>threshold) for threshold in thresholds]\n",
    "\n",
    "for component,threshold in zip(components,thresholds):\n",
    "    print(\"Components required for {}% threshold are: {}\".format(threshold,component))"
   ]
  },
  {
   "cell_type": "code",
   "execution_count": 28,
   "metadata": {},
   "outputs": [
    {
     "data": {
      "image/png": "[encoded data removed]",
      "text/plain": [
       "<Figure size 432x288 with 1 Axes>"
      ]
     },
     "metadata": {
      "needs_background": "light"
     },
     "output_type": "display_data"
    }
   ],
   "source": [
    "#Plot a Scree plot\n",
    "plt.plot(components,range(90,97+1,1),'ro-',linewidth=1)\n",
    "plt.title('Scree plot')\n",
    "plt.xlabel('Principal Component')\n",
    "plt.ylabel('Threshold (%)')\n",
    "plt.show()"
   ]
  },
  {
   "cell_type": "code",
   "execution_count": 30,
   "metadata": {},
   "outputs": [
    {
     "name": "stdout",
     "output_type": "stream",
     "text": [
      "Performance dimensionality reduction to retain 90% threshold: \n",
      "After dimensionality reduction, new shape of the dataset is:  (8041, 2)\n",
      "\n",
      "\n",
      "Performance dimensionality reduction to retain 91% threshold: \n",
      "After dimensionality reduction, new shape of the dataset is:  (8041, 2)\n",
      "\n",
      "\n",
      "Performance dimensionality reduction to retain 92% threshold: \n",
      "After dimensionality reduction, new shape of the dataset is:  (8041, 3)\n",
      "\n",
      "\n",
      "Performance dimensionality reduction to retain 93% threshold: \n",
      "After dimensionality reduction, new shape of the dataset is:  (8041, 3)\n",
      "\n",
      "\n",
      "Performance dimensionality reduction to retain 94% threshold: \n",
      "After dimensionality reduction, new shape of the dataset is:  (8041, 4)\n",
      "\n",
      "\n",
      "Performance dimensionality reduction to retain 95% threshold: \n",
      "After dimensionality reduction, new shape of the dataset is:  (8041, 4)\n",
      "\n",
      "\n",
      "Performance dimensionality reduction to retain 96% threshold: \n",
      "After dimensionality reduction, new shape of the dataset is:  (8041, 5)\n",
      "\n",
      "\n",
      "Performance dimensionality reduction to retain 97% threshold: \n",
      "After dimensionality reduction, new shape of the dataset is:  (8041, 6)\n",
      "\n",
      "\n"
     ]
    }
   ],
   "source": [
    "#Dimensionality Reduction\n",
    "X_orig=X\n",
    "\n",
    "for component,var in zip(components,thresholds):\n",
    "    pca=PCA(n_components=component)\n",
    "    X_transformed=pca.fit_transform(X_orig)\n",
    "    print(\"Performance dimensionality reduction to retain {}% threshold: \".format(var))\n",
    "    print(\"After dimensionality reduction, new shape of the dataset is: \",X_transformed.shape)\n",
    "    print('\\n')"
   ]
  }
 ],
 "metadata": {
  "kernelspec": {
   "display_name": "Python 3",
   "language": "python",
   "name": "python3"
  },
  "language_info": {
   "codemirror_mode": {
    "name": "ipython",
    "version": 3
   },
   "file_extension": ".py",
   "mimetype": "text/x-python",
   "name": "python",
   "nbconvert_exporter": "python",
   "pygments_lexer": "ipython3",
   "version": "3.8.3"
  }
 },
 "nbformat": 4,
 "nbformat_minor": 4
}
